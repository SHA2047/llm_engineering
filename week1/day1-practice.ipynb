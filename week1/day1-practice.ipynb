{
 "cells": [
  {
   "cell_type": "markdown",
   "metadata": {},
   "source": [
    "# Goal: Website Summarizer"
   ]
  },
  {
   "cell_type": "code",
   "execution_count": 1,
   "metadata": {},
   "outputs": [],
   "source": [
    "import requests\n",
    "from bs4 import BeautifulSoup\n",
    "\n",
    "class WebScraper:\n",
    "    def __init__(self):\n",
    "        pass\n",
    "\n",
    "    def scrape_text(self, url, element_type, element_attribute=None, attribute_value=None):\n",
    "        \"\"\"\n",
    "        Scrapes text from a website.\n",
    "\n",
    "        Args:\n",
    "            url (str): The URL of the website to scrape.\n",
    "            element_type (str): The HTML element type to target (e.g., \"p\", \"h1\", \"div\").\n",
    "            element_attribute (str, optional): The attribute to filter by (e.g., \"class\", \"id\"). Defaults to None.\n",
    "            attribute_value (str, optional): The value of the attribute to filter by. Defaults to None.\n",
    "\n",
    "        Returns:\n",
    "            list: A list of strings containing the extracted text.\n",
    "        \"\"\"\n",
    "        try:\n",
    "            response = requests.get(url)\n",
    "            response.raise_for_status()  # Raise HTTPError for bad responses (4xx or 5xx)\n",
    "            soup = BeautifulSoup(response.content, \"html.parser\")\n",
    "\n",
    "            if element_attribute and attribute_value:\n",
    "                elements = soup.find_all(element_type, {element_attribute: attribute_value})\n",
    "            else:\n",
    "                elements = soup.find_all(element_type)\n",
    "\n",
    "            text_list = [element.get_text(strip=True) for element in elements]\n",
    "            return text_list\n",
    "\n",
    "        except requests.exceptions.RequestException as e:\n",
    "            print(f\"Error fetching URL: {e}\")\n",
    "            return []\n",
    "        except Exception as e:\n",
    "            print(f\"An error occured: {e}\")\n",
    "            return []"
   ]
  },
  {
   "cell_type": "code",
   "execution_count": 2,
   "metadata": {},
   "outputs": [],
   "source": [
    "\n",
    "# scraper = WebScraper()\n",
    "# url = \"https://medium.com/@spaw.co/best-websites-to-practice-web-scraping-9df5d4df4d1\" #replace with your target website.\n",
    "# paragraphs = scraper.scrape_text(url, \"p\")\n",
    "# print(paragraphs)\n",
    "\n",
    "# header_text = scraper.scrape_text(url, \"h1\")\n",
    "# print(header_text)\n",
    "\n",
    "# div_class_text = scraper.scrape_text(url, \"div\", \"class\", \"example-class\")\n",
    "# print(div_class_text)"
   ]
  },
  {
   "cell_type": "markdown",
   "metadata": {},
   "source": [
    "# Call ChatGPT API to summarise the contents"
   ]
  },
  {
   "cell_type": "code",
   "execution_count": 3,
   "metadata": {},
   "outputs": [],
   "source": [
    "import openai\n",
    "import os\n",
    "from IPython.display import display, Markdown\n",
    "from dotenv import load_dotenv\n",
    "load_dotenv()\n",
    "\n",
    "class TextSummarizer:\n",
    "    def __init__(self, openai_api_key):\n",
    "        openai.api_key = openai_api_key\n",
    "\n",
    "    def summarize_text(self, text):\n",
    "        \"\"\"Summarizes text using the ChatGPT API.\"\"\"\n",
    "        try:\n",
    "            response = openai.chat.completions.create(\n",
    "                model=\"gpt-3.5-turbo\",\n",
    "                messages=[\n",
    "                    {\"role\": \"system\", \"content\": \"You are a helpful assistant that summarizes text.\"},\n",
    "                    {\"role\": \"user\", \"content\": f\"Summarize the following text: {text}\"},\n",
    "                ],\n",
    "            )\n",
    "            return response.choices[0].message.content.strip()\n",
    "        except Exception as e:\n",
    "            print(f\"Error summarizing text: {e}\")\n",
    "            return \"\""
   ]
  },
  {
   "cell_type": "code",
   "execution_count": 4,
   "metadata": {},
   "outputs": [
    {
     "data": {
      "text/markdown": [
       "The name Robert is an ancient Germanic given name, derived from Proto-Germanic roots meaning \"fame\" and \"bright\". It is one of the most frequently used names of ancient Germanic origin and is also used as a surname. The name became popular in Continental Europe before entering England in its Old French form. Robert is a common name in many Germanic languages and has various forms in different languages. It was a royal name in France, Germany, Scotland, and England during the medieval period and was popular among nobility. Despite its historical associations, Robert remains one of the most frequently given male names and was in the top 10 most popular boys' names in the United States for 47 years. It is the fourth most common name in the United States. The name also has significance in Italian history during World War II. The name's root is the origin of the modern English word \"bright\"."
      ],
      "text/plain": [
       "<IPython.core.display.Markdown object>"
      ]
     },
     "metadata": {},
     "output_type": "display_data"
    }
   ],
   "source": [
    "# # Example usage:\n",
    "openai_api_key = os.getenv('OPENAI_API_KEY') #replace with your api key.\n",
    "url = \"https://en.wikipedia.org/wiki/Robert\" #replace with your target website.\n",
    "\n",
    "scraper = WebScraper()\n",
    "summarizer = TextSummarizer(openai_api_key)\n",
    "\n",
    "scraped_text = scraper.scrape_text(url, \"p\")\n",
    "summary = summarizer.summarize_text(scraped_text)\n",
    "\n",
    "display(Markdown(summary))"
   ]
  },
  {
   "cell_type": "code",
   "execution_count": null,
   "metadata": {},
   "outputs": [],
   "source": []
  },
  {
   "cell_type": "code",
   "execution_count": null,
   "metadata": {},
   "outputs": [],
   "source": []
  }
 ],
 "metadata": {
  "kernelspec": {
   "display_name": "llms",
   "language": "python",
   "name": "python3"
  },
  "language_info": {
   "codemirror_mode": {
    "name": "ipython",
    "version": 3
   },
   "file_extension": ".py",
   "mimetype": "text/x-python",
   "name": "python",
   "nbconvert_exporter": "python",
   "pygments_lexer": "ipython3",
   "version": "3.11.11"
  }
 },
 "nbformat": 4,
 "nbformat_minor": 2
}
