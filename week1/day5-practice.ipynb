{
 "cells": [
  {
   "cell_type": "code",
   "execution_count": null,
   "metadata": {},
   "outputs": [],
   "source": [
    "import openai\n",
    "from dotenv import load_dotenv\n",
    "load_dotenv()\n",
    "import os"
   ]
  },
  {
   "cell_type": "code",
   "execution_count": 48,
   "metadata": {},
   "outputs": [
    {
     "name": "stdout",
     "output_type": "stream",
     "text": [
      "{\n",
      "  \"companyName\": \"Indian Oil\",\n",
      "  \"website\": \"https://www.iocl.com/\"\n",
      "}\n"
     ]
    }
   ],
   "source": [
    "def website_fetcher(company_name):\n",
    "\n",
    "    response = openai.chat.completions.create(\n",
    "        model = \"gpt-4o\",\n",
    "        messages = [\n",
    "            {\"role\":\"system\", \"content\": \"\"\"You are an expert in web browsing. When a User provides you with a Company Name, you fetch the Landing page address for that company's website and store it in json format\n",
    "             \"\"\"},\n",
    "            {\"role\": \"user\", \"content\" : f\"\"\"What is the company website address for: {company_name}\"\"\"}],\n",
    "            response_format= {\"type\": \"json_object\"}\n",
    "    )\n",
    "    \n",
    "    return response.choices[0].message.content.strip()\n",
    "\n",
    "website = website_fetcher(\"Indian oil\")\n",
    "print(website)"
   ]
  },
  {
   "cell_type": "code",
   "execution_count": 13,
   "metadata": {},
   "outputs": [
    {
     "name": "stderr",
     "output_type": "stream",
     "text": [
      "/var/folders/m2/t01wvv5j2bx31nwc8g9c_k900000gn/T/ipykernel_75273/2056408872.py:23: DeprecationWarning: Call to deprecated method findAll. (Replaced by find_all) -- Deprecated since version 4.0.0.\n",
      "  elements = self.soup.findAll(tag, class_=class_name)\n"
     ]
    }
   ],
   "source": [
    "import bs4\n",
    "import requests\n",
    "\n",
    "class webscraper:\n",
    "\n",
    "    def __init__(self, url):\n",
    "        self.url = url\n",
    "        self.soup = None\n",
    "\n",
    "    def fetch_page(self):\n",
    "        response = requests.get(self.url)\n",
    "\n",
    "        if response.status_code == 200:\n",
    "            self.soup = bs4.BeautifulSoup(response.text, \"html.parser\")\n",
    "        else:\n",
    "            raise Exception(f\"Failed to load page: {response.status_code}\")\n",
    "        \n",
    "    def extract_data(self, tag=None, class_name=None):\n",
    "        \n",
    "        if self.soup is None:\n",
    "            raise Exception(\"Page not loaded. Call fetch_page() first\")\n",
    "        \n",
    "        elements = self.soup.findAll(tag, class_=class_name)\n",
    "        text_elements = [element.get_text(strip = True) for element in elements]\n",
    "        link_elements = [element.get(\"href\") for element in elements]\n",
    "        return(text_elements, link_elements)\n",
    "    \n",
    "url = \"https://edwarddonner.com/\"\n",
    "scraper = webscraper(url)\n",
    "scraper.fetch_page()\n",
    "text_elements, link_elements = scraper.extract_data()"
   ]
  },
  {
   "cell_type": "markdown",
   "metadata": {},
   "source": [
    "# Clean the Text and Link elements"
   ]
  },
  {
   "cell_type": "code",
   "execution_count": null,
   "metadata": {},
   "outputs": [],
   "source": []
  },
  {
   "cell_type": "code",
   "execution_count": null,
   "metadata": {},
   "outputs": [],
   "source": [
    "link_elements = [i for i in link_elements if i!=None]\n",
    "text_elements = [i for i in text_elements if i!='']\n",
    "\n",
    "openai.api_key = os.getenv(\"OPENAI_API_KEY\")\n",
    "def data_cleaner(texts, links):\n",
    "\n",
    "    response = openai.chat.completions.create(\n",
    "        model = \"gpt-4o\",\n",
    "        messages = [\n",
    "            {\"role\":\"system\", \"content\": \"\"\"You are an excellent text data wrangler. \n",
    "            The user will provide you with a list of texts and links as strings scraped from a webpage and you will clean the list by removing unnecessary text elements. \n",
    "            Unnecessary text is anything that is not relevant to designing the brochure template for the website. Return two python lists containing cleaned \n",
    "            text and links\"\"\"},\n",
    "            {\"role\": \"user\", \"content\" : f\"\"\"Clean the following text: {str(texts)} and links: {str(links)}\"\"\"}]\n",
    "    )\n",
    "\n",
    "    return response.choices[0].message.content.strip()"
   ]
  },
  {
   "cell_type": "code",
   "execution_count": 41,
   "metadata": {},
   "outputs": [],
   "source": [
    "llm_response = data_cleaner(text_elements, link_elements)"
   ]
  },
  {
   "cell_type": "code",
   "execution_count": 42,
   "metadata": {},
   "outputs": [
    {
     "data": {
      "text/markdown": [
       "Here are the cleaned text and links relevant to designing a brochure template:\n",
       "\n",
       "Cleaned Text:\n",
       "1. Home - Edward Donner\n",
       "2. HomeConnect FourOutsmart\n",
       "3. AboutPosts\n",
       "4. I’m Ed. I like writing code and experimenting with LLMs, and hopefully you’re here because you do too. I also enjoy DJing (but I’m badly out of practice), amateur electronic music production (very amateur) and losing myself in Hacker News, nodding my head sagely to things I only half understand.\n",
       "5. I’m the co-founder and CTO of Nebula.io. We’re applying AI to a field where it can make a massive, positive impact: helping people discover their potential and pursue their reason for being. Recruiters use our product today to source, understand, engage and manage talent. I’m previously the founder and CEO of AI startup untapt, acquired in 2021.\n",
       "6. We work with groundbreaking, proprietary LLMs verticalized for talent, we’ve patented our matching model, and our award-winning platform has happy customers and tons of press coverage. Connect with me for more!\n",
       "7. LLM Workshop – Hands-on with Agents – resources\n",
       "8. Welcome, SuperDataScientists!\n",
       "9. Mastering AI and LLM Engineering – Resources\n",
       "10. From Software Engineer to AI Data Scientist – resources\n",
       "11. Get in touch: ed [at] edwarddonner [dot] com\n",
       "12. Follow me on LinkedIn, Twitter, Facebook\n",
       "13. www.edwarddonner.com\n",
       "14. Subscribe to newsletter\n",
       "\n",
       "Cleaned Links:\n",
       "1. https://edwarddonner.com/\n",
       "2. https://edwarddonner.com/feed/\n",
       "3. https://edwarddonner.com/comments/feed/\n",
       "4. https://edwarddonner.com/wp-json/\n",
       "5. https://edwarddonner.com/wp-json/wp/v2/pages/57\n",
       "6. https://news.ycombinator.com\n",
       "7. https://nebula.io/?utm_source=ed&utm_medium=referral\n",
       "8. https://www.prnewswire.com/news-releases/wynden-stark-group-acquires-nyc-venture-backed-tech-startup-untapt-301269512.html\n",
       "9. https://patents.google.com/patent/US20210049536A1/\n",
       "10. https://www.linkedin.com/in/eddonner/\n",
       "11. https://edwarddonner.com/2025/01/23/llm-workshop-hands-on-with-agents-resources/\n",
       "12. https://edwarddonner.com/2024/12/21/llm-resources-superdatascience/\n",
       "13. https://edwarddonner.com/2024/11/13/llm-engineering-resources/\n",
       "14. https://edwarddonner.com/2024/10/16/from-software-engineer-to-ai-data-scientist-resources/\n",
       "15. mailto:hello@mygroovydomain.com\n",
       "\n",
       "The cleaned text and links focus on Ed's introduction, projects, professional roles, interests, and how to connect with or follow his work, as well as the central links to the main webpage and related resources."
      ],
      "text/plain": [
       "<IPython.core.display.Markdown object>"
      ]
     },
     "metadata": {},
     "output_type": "display_data"
    }
   ],
   "source": [
    "from IPython.display import display, Markdown\n",
    "\n",
    "display(Markdown(llm_response))"
   ]
  },
  {
   "cell_type": "code",
   "execution_count": 43,
   "metadata": {},
   "outputs": [
    {
     "data": {
      "text/plain": [
       "\"Here are the cleaned text and links relevant to designing a brochure template:\\n\\nCleaned Text:\\n1. Home - Edward Donner\\n2. HomeConnect FourOutsmart\\n3. AboutPosts\\n4. I’m Ed. I like writing code and experimenting with LLMs, and hopefully you’re here because you do too. I also enjoy DJing (but I’m badly out of practice), amateur electronic music production (very amateur) and losing myself in Hacker News, nodding my head sagely to things I only half understand.\\n5. I’m the co-founder and CTO of Nebula.io. We’re applying AI to a field where it can make a massive, positive impact: helping people discover their potential and pursue their reason for being. Recruiters use our product today to source, understand, engage and manage talent. I’m previously the founder and CEO of AI startup untapt, acquired in 2021.\\n6. We work with groundbreaking, proprietary LLMs verticalized for talent, we’ve patented our matching model, and our award-winning platform has happy customers and tons of press coverage. Connect with me for more!\\n7. LLM Workshop – Hands-on with Agents – resources\\n8. Welcome, SuperDataScientists!\\n9. Mastering AI and LLM Engineering – Resources\\n10. From Software Engineer to AI Data Scientist – resources\\n11. Get in touch: ed [at] edwarddonner [dot] com\\n12. Follow me on LinkedIn, Twitter, Facebook\\n13. www.edwarddonner.com\\n14. Subscribe to newsletter\\n\\nCleaned Links:\\n1. https://edwarddonner.com/\\n2. https://edwarddonner.com/feed/\\n3. https://edwarddonner.com/comments/feed/\\n4. https://edwarddonner.com/wp-json/\\n5. https://edwarddonner.com/wp-json/wp/v2/pages/57\\n6. https://news.ycombinator.com\\n7. https://nebula.io/?utm_source=ed&utm_medium=referral\\n8. https://www.prnewswire.com/news-releases/wynden-stark-group-acquires-nyc-venture-backed-tech-startup-untapt-301269512.html\\n9. https://patents.google.com/patent/US20210049536A1/\\n10. https://www.linkedin.com/in/eddonner/\\n11. https://edwarddonner.com/2025/01/23/llm-workshop-hands-on-with-agents-resources/\\n12. https://edwarddonner.com/2024/12/21/llm-resources-superdatascience/\\n13. https://edwarddonner.com/2024/11/13/llm-engineering-resources/\\n14. https://edwarddonner.com/2024/10/16/from-software-engineer-to-ai-data-scientist-resources/\\n15. mailto:hello@mygroovydomain.com\\n\\nThe cleaned text and links focus on Ed's introduction, projects, professional roles, interests, and how to connect with or follow his work, as well as the central links to the main webpage and related resources.\""
      ]
     },
     "execution_count": 43,
     "metadata": {},
     "output_type": "execute_result"
    }
   ],
   "source": [
    "llm_response"
   ]
  },
  {
   "cell_type": "code",
   "execution_count": 52,
   "metadata": {},
   "outputs": [],
   "source": [
    "def brochure_maker(cleaned_webpage_text, stream = False):\n",
    "\n",
    "    response = openai.chat.completions.create(\n",
    "        model = \"gpt-4o\",\n",
    "        messages = [\n",
    "            {\"role\":\"system\", \"content\": \"\"\"You are an expert in writeups for a website brochure based on the text and links on the website. You also collate the relevant material for brochure from the links provided.\"\"\"},\n",
    "            {\"role\": \"user\", \"content\" : f\"\"\"Make an impactuful writeup for a website based on the following text and links on its webpage: {cleaned_webpage_text}\"\"\"}],\n",
    "            stream=stream\n",
    "    )\n",
    "\n",
    "    return response.choices[0].message.content.strip()\n",
    "\n",
    "brochure_text = brochure_maker(llm_response)"
   ]
  },
  {
   "cell_type": "code",
   "execution_count": null,
   "metadata": {},
   "outputs": [
    {
     "data": {
      "text/markdown": [
       "### Discover the World of AI with Edward Donner\n",
       "\n",
       "Welcome to the digital realm of Edward Donner - a hub for innovation, AI exploration, and cutting-edge technology insight!\n",
       "\n",
       "#### Meet Ed\n",
       "Edward Donner is a visionary at the forefront of AI development and a passionate technologist. With a penchant for writing code, experimenting with Large Language Models (LLMs), and engaging in various tech ecosystems, Ed brings a unique blend of expertise and creativity. When he’s not delving into artificial intelligence, he dabbles in DJing and electronic music production, reflecting his diverse interests.\n",
       "\n",
       "#### Leading the Charge at Nebula.io\n",
       "As the co-founder and Chief Technology Officer of **[Nebula.io](https://nebula.io/?utm_source=ed&utm_medium=referral)**, Ed is dedicated to revolutionizing talent management using AI. Nebula.io harnesses the power of bespoke, proprietary LLMs tailored for matching and managing talent in unparalleled ways. Our platform has garnered accolades for its innovative approach and effectiveness, serving recruiters to source and nurture potential like never before.\n",
       "\n",
       "Join Ed as he transforms the landscape of recruitment through AI-driven intelligence, leveraging patented technologies and a wealth of press-covered success stories. Explore our recent contributions to talent acquisition by reading more on **[PR Newswire](https://www.prnewswire.com/news-releases/wynden-stark-group-acquires-nyc-venture-backed-tech-startup-untapt-301269512.html)** and our patented matching model on **[Google Patents](https://patents.google.com/patent/US20210049536A1/)**.\n",
       "\n",
       "#### Educational Resources and Workshops\n",
       "Edward is committed to shared learning and industry growth. Dive into a collection of resources that cover everything from mastering AI concepts to transitioning roles in tech. Participate in hands-on LLM workshops and fortify your skillset with specialized resources for AI engineers and data scientists:\n",
       "\n",
       "- [LLM Workshop – Hands-on with Agents](https://edwarddonner.com/2025/01/23/llm-workshop-hands-on-with-agents-resources/)\n",
       "- [SuperDataScience LLM Resources](https://edwarddonner.com/2024/12/21/llm-resources-superdatascience/)\n",
       "- [Mastering AI and LLM Engineering](https://edwarddonner.com/2024/11/13/llm-engineering-resources/)\n",
       "- [Journey from Software Engineer to AI Data Scientist](https://edwarddonner.com/2024/10/16/from-software-engineer-to-ai-data-scientist-resources/)\n",
       "\n",
       "#### Stay Connected\n",
       "Join the conversation and expand your network by connecting with Ed on [LinkedIn](https://www.linkedin.com/in/eddonner/), following his thoughts on [Twitter](https://twitter.com/), or being part of his journey on [Facebook](https://facebook.com/). For direct communication, you can reach out via email at [ed@edwarddonner.com](mailto:hello@mygroovydomain.com).\n",
       "\n",
       "Explore more about Ed and his ventures at [edwarddonner.com](https://edwarddonner.com/) and subscribe to his newsletter for the latest updates and insights.\n",
       "\n",
       "Step into the future of AI with Edward Donner, and be part of a transformative journey in the world of technology!"
      ],
      "text/plain": [
       "<IPython.core.display.Markdown object>"
      ]
     },
     "metadata": {},
     "output_type": "display_data"
    }
   ],
   "source": [
    "display(Markdown(brochure_text))"
   ]
  },
  {
   "cell_type": "code",
   "execution_count": null,
   "metadata": {},
   "outputs": [],
   "source": []
  }
 ],
 "metadata": {
  "kernelspec": {
   "display_name": "llms",
   "language": "python",
   "name": "python3"
  },
  "language_info": {
   "codemirror_mode": {
    "name": "ipython",
    "version": 3
   },
   "file_extension": ".py",
   "mimetype": "text/x-python",
   "name": "python",
   "nbconvert_exporter": "python",
   "pygments_lexer": "ipython3",
   "version": "3.11.11"
  }
 },
 "nbformat": 4,
 "nbformat_minor": 2
}
